{
 "cells": [
  {
   "cell_type": "markdown",
   "metadata": {},
   "source": [
    "# Linear Regression - the first algorithm of AI\n",
    "\n",
    "This Jupyter Notebook introduces you to:\n",
    "\n",
    "* Using Python for machine learning\n",
    "* Linear regression as an example of supervised learning\n",
    "* How to create test data sets for exploring linear regression\n",
    "* Fitting a straight line to the test data using:\n",
    " - Hand-crafted Gradient Descent\n",
    " - Functions built into the Python machine learning module `scikit-learn`\n",
    " - TensorFlow neural network\n",
    "* How to visualize the data and the fitting processes\n",
    "\n",
    "You will find these techniques useful as you explore machine learning."
   ]
  },
  {
   "cell_type": "markdown",
   "metadata": {},
   "source": [
    "## 0. Getting started...loading Python code modules\n",
    "\n",
    "Python functionality is extended by pre-written code-modules that handle specific tasks. Most machine learning tasks in Python make use of at least the two libraries:\n",
    "\n",
    "* `numpy` (for numerical operations on arrays and matricies)\n",
    "* `matplotlib` (for visualizing your data and the fitted results).\n",
    "\n",
    "You will often include the line **\"%matplotlib inline\"** after you load `matplotlib`. This is a special directive to the Jupyter Notebook to place the visualizations in your notebook and not pop open a separate window (or do something else)."
   ]
  },
  {
   "cell_type": "code",
   "execution_count": 1,
   "metadata": {},
   "outputs": [],
   "source": [
    "import numpy as np\n",
    "import matplotlib.pyplot as plt\n",
    "%matplotlib inline"
   ]
  },
  {
   "cell_type": "markdown",
   "metadata": {},
   "source": [
    "## 1. Create test data sets for linear regression\n",
    "\n",
    "When you first learn about linear regression in a machine learning course, you are provided with a dataset of $X$ and $y$ values in a file. You then move on from linear regression without trying out different kinds of datasets to get a feel for what works and what does not.\n",
    "\n",
    "Python's `scikit-learn` module contains a routine called `make_regression` that allows you to create as many different lineare regression datasets as you want. A parameter called `noise` determines how well the dataset follows a straight line. You can set `bias` to a y-intercept ($b$). The function returns the value it chose for the slope ($m$) of the straight line being approximated.\n",
    "\n",
    "You can learn more about each parameter and output of `make_regression` in the online docs:\n",
    "\n",
    "http://scikit-learn.org/stable/modules/generated/sklearn.datasets.make_regression.html"
   ]
  },
  {
   "cell_type": "code",
   "execution_count": 2,
   "metadata": {},
   "outputs": [],
   "source": [
    "n = 100\n",
    "chosen_yint = -10.0\n",
    "init_random_number = 100\n",
    "\n",
    "from sklearn.datasets import make_regression\n",
    "X, y, chosen_slope = make_regression(n_samples=n, n_features=1,\n",
    "                                     bias=chosen_yint, noise=10.0,\n",
    "                                     random_state=init_random_number,\n",
    "                                     coef=True)"
   ]
  },
  {
   "cell_type": "code",
   "execution_count": 3,
   "metadata": {},
   "outputs": [
    {
     "name": "stdout",
     "output_type": "stream",
     "text": [
      "Number of data points to fit =  100\n",
      "Chosen slope =  40.28803313791421\n",
      "Chosen y-intercept =  -10.0\n"
     ]
    }
   ],
   "source": [
    "print(\"Number of data points to fit = \", n)\n",
    "print(\"Chosen slope = \", chosen_slope)\n",
    "print(\"Chosen y-intercept = \", chosen_yint)"
   ]
  },
  {
   "cell_type": "markdown",
   "metadata": {},
   "source": [
    "### Watch the shapes of your data structures...sometimes they are not proper vectors\n",
    "\n",
    "The cell below loads the `make regression` function and builds our first $(X, y)$ dataset. The function returns all the $X$ values in a Python column vector of dimension $(m\\ x\\ 1)$.\n",
    "\n",
    "The $y$ values are returned in a Python array. Python arrays are not proper vectors - they are a list of items with no column dimension. Also, Python does not apply proper matrix math rules to arrays...so we need to reshape the $y$ array into a proper $(m\\ x\\ 1)$ vector by adding a column dimension:"
   ]
  },
  {
   "cell_type": "code",
   "execution_count": 4,
   "metadata": {},
   "outputs": [
    {
     "name": "stdout",
     "output_type": "stream",
     "text": [
      "X dimensions =  (100, 1) \t(a proper column vector)\n",
      "y dimensions =  (100,) \t(no column dimension because y is a Python array...)\n",
      "\n",
      "...adding a column dimension to y...\n",
      "\n",
      "y dimensions =  (100, 1)  (...y is now a proper column vector ready for matrix math)\n"
     ]
    }
   ],
   "source": [
    "print(\"X dimensions = \", X.shape, \"\\t(a proper column vector)\")\n",
    "print(\"y dimensions = \", y.shape, \"\\t(no column dimension because y is a Python array...)\")\n",
    "print(\"\\n...adding a column dimension to y...\\n\")\n",
    "\n",
    "y = y[:,None]\n",
    "\n",
    "print(\"y dimensions = \", y.shape, \" (...y is now a proper column vector ready for matrix math)\")"
   ]
  },
  {
   "cell_type": "markdown",
   "metadata": {},
   "source": [
    "## 2. Always visualize your data - your eye is great at spotting trends and odd data points\n",
    "\n",
    "The module `matplotlib` provides a lot of visualization functions similar to what you find in **Matlab** and **Octave**. The functions allow you to look at your data before and after fitting. There is no substitute for visual inspection to see if your data during fitting. Your eye can eailsy tell if a dataset can be fit by a straight line.\n",
    "\n",
    "Plotting two column vectors of numbers is easy. You call the `scatter()` and then `show()` functions of `matplotlib`. Other calls let you add axis labels and a title.\n",
    "\n",
    "Find out more about `matplotlib` here: https://matplotlib.org"
   ]
  },
  {
   "cell_type": "code",
   "execution_count": 5,
   "metadata": {},
   "outputs": [
    {
     "data": {
      "image/png": "[encoded data removed]",
      "text/plain": [
       "<Figure size 432x288 with 1 Axes>"
      ]
     },
     "metadata": {},
     "output_type": "display_data"
    }
   ],
   "source": [
    "plt.scatter(X, y)\n",
    "\n",
    "plt.xlabel(\"X\")\n",
    "plt.ylabel(\"y\")\n",
    "plt.title(\"Sample dataset for Linear Regression\")\n",
    "\n",
    "plt.show()"
   ]
  },
  {
   "cell_type": "markdown",
   "metadata": {},
   "source": [
    "The data set does look like it can be approximated by a straight line. Before computers, you often just plotted the points on a piece of graph paper and drew the best straight line \"by eye\" use a pen and a ruler. Once you drew the line, you determined the slope and y-intercept from it with reference to the printed grid on the graph paper."
   ]
  },
  {
   "cell_type": "markdown",
   "metadata": {},
   "source": [
    "## 3. Linear Regression\n",
    "\n",
    "Since our sample data points do not all sit nicely along a well defined line, we say that each observed point $\\{(x_i,y_i),\\ i = 0,\\ ...,\\ n - 1\\}$ has some residual error term $\\epsilon_i$ associated with it...and the precise equation relating each $y_i$ to each $x_i$ is:\n",
    "\n",
    "$$y_i = mx_i + b + \\epsilon_i$$\n",
    "\n",
    "And the relationship between the true (but currently unknown) values of the slope $m$ and y-intercept $b$ is called the linear regression model. Once we know $m$ and $b$ we can predict the value of $y$ for any value of $x$. Since we have no guarantee that our data continues to follow a linear relationship outside our measured range of $x_i$ values, we usually restrict our predictions to values of $x$ between the minimum and maximum values of $x_i$.\n",
    "\n",
    "In this case, once we fit our linear model, we should only predict values of $y$ for values of $x$ between:"
   ]
  },
  {
   "cell_type": "code",
   "execution_count": 6,
   "metadata": {},
   "outputs": [
    {
     "name": "stdout",
     "output_type": "stream",
     "text": [
      "Smallest value of x we should use when predicting y =  [-2.48715154]\n",
      "Largest value of x we should use when predicting y =  [2.03460756]\n"
     ]
    }
   ],
   "source": [
    "print(\"Smallest value of x we should use when predicting y = \", min(X))\n",
    "print(\"Largest value of x we should use when predicting y = \", max(X))"
   ]
  },
  {
   "cell_type": "markdown",
   "metadata": {},
   "source": [
    "Our goal is to estimate the values of $m$ and $b$ that provide the \"best\" fit of our sample data. One way to do this is to minimize the residual error terms $\\epsilon_i$:\n",
    "\n",
    "$$\\epsilon_i = (mx_i + b) - y_i$$"
   ]
  },
  {
   "cell_type": "markdown",
   "metadata": {},
   "source": [
    "Because the residuals can be positive or negative, a simple approach to minimization is to make the sum of the squares of $\\epsilon_i$ as small as possible:\n",
    "\n",
    "$$J(m, b) = \\frac{1}{2n}\\sum_{i=0}^{n-1}\\epsilon_i^2 = \\frac{1}{2n}\\sum_{i=0}^{n-1}((m*x_i+b)-y_i)^2$$\n",
    "\n",
    "With the $1/(2n)$ is a normalization constant that is traditional (but you don't really need to include it when doing gradient descent). I've seen code for function minimzation that drop all such contants and compute only the sums. I've included it because you will see used it in a lot of machine learning courses."
   ]
  },
  {
   "cell_type": "markdown",
   "metadata": {},
   "source": [
    "### Did you know about the fight over who invented least squares?\n",
    " \n",
    "This approach is known as \"least squares\". It was discovered independently by the legendary mathematicians [Carl Friedrich Gauss](https://en.wikipedia.org/wiki/Carl_Friedrich_Gauss) and [Adrien-Marie Legendre](https://en.wikipedia.org/wiki/Adrien-Marie_Legendre). Legendre published his results first in 1805. Gauss then claimed he had discovered it first in 1795 and had not bothered to tell anyone. This led to a \"war of words\" between the two mathematicians. Don Kopf wrote an article on it: https://priceonomics.com/the-discovery-of-statistical-regression/. Another good reference is Stephen M. Stigler's *The History of Statistics*: https://www.the-scientist.com/books-etc-/early-statistics-64227."
   ]
  },
  {
   "cell_type": "markdown",
   "metadata": {},
   "source": [
    "### And did you know there is an exact solution to linear regression?\n",
    "\n",
    "There are equations for $m$ and $b$ that involve various products and sums of the data points $(x_i,y_i)$. You can find the details here: https://en.wikipedia.org/wiki/Simple_linear_regression.\n",
    "\n",
    "Machine learning does not always involve a model that has an exact solution like Linear Regression. I'm going to show you the general approach to finding the best fit coefficients of any regression model - whether linear or otherwise. This approach invovles the least-squares *cost function* and solving for the slope and y-intercept using *gradient descent*."
   ]
  },
  {
   "cell_type": "markdown",
   "metadata": {},
   "source": [
    "## 4. Programming the Cost Function - from traditional loop to a single line of code\n",
    "\n",
    "Python is a powerful language for numerical calculation. I'm going to show you how to calcualte the cost function in one line of code. But let us start by calculating it using a traditional programmer's loop.\n",
    "\n",
    "Before we can do that, we need to set initial values for the slope $m$ and y-intercept $b$:"
   ]
  },
  {
   "cell_type": "code",
   "execution_count": 7,
   "metadata": {},
   "outputs": [],
   "source": [
    "slope = 1.0\n",
    "yint = 1.0"
   ]
  },
  {
   "cell_type": "markdown",
   "metadata": {},
   "source": [
    "Here's the loop calculation..."
   ]
  },
  {
   "cell_type": "code",
   "execution_count": 8,
   "metadata": {},
   "outputs": [
    {
     "name": "stdout",
     "output_type": "stream",
     "text": [
      "Initial cost (loop method) = 918.690864\n"
     ]
    }
   ],
   "source": [
    "n = X.shape[0] # Get number of data points from the number of rows of the X vector\n",
    "\n",
    "sumSq = 0.0\n",
    "for i in range(n): # this means the loop runs from 0 to n - 1 (all vectors and arrays index from 0 in Python)\n",
    "    sumSq = sumSq + ((slope*X[i,0] + yint) - y[i,0])**2\n",
    "sumSq = sumSq / (2.0 * n)\n",
    "\n",
    "print(\"Initial cost (loop method) = %f\" % sumSq)"
   ]
  },
  {
   "cell_type": "markdown",
   "metadata": {},
   "source": [
    "Now let's program the cost again by exploiting the Python rules:\n",
    "\n",
    "* A vector of size $(n\\ x\\ 1)$ multiplied by a single number results in a vector of the same size $(n\\ x\\ 1)$ with each element multiplied by the number\n",
    "* A vector of size $(n\\ x\\ 1)$ with a single number added to it results in a vector of the same size $(n\\ x\\ 1)$ with each element having the number added to it\n",
    "* Exponentiation of a vector of size $(n\\ x\\ 1)$ by a single number results in a vector of the same size $(n\\ x\\ 1)$ with each element raised to the power of that number"
   ]
  },
  {
   "cell_type": "code",
   "execution_count": 9,
   "metadata": {},
   "outputs": [
    {
     "name": "stdout",
     "output_type": "stream",
     "text": [
      "Number of data points n =  100\n",
      "X vector shape:  (100, 1)  first element is:  -0.37690335016897475\n"
     ]
    }
   ],
   "source": [
    "n = X.shape[0]\n",
    "print(\"Number of data points n = \", n)\n",
    "print(\"X vector shape: \", X.shape, \" first element is: \", X[0,0])"
   ]
  },
  {
   "cell_type": "code",
   "execution_count": 10,
   "metadata": {},
   "outputs": [
    {
     "name": "stdout",
     "output_type": "stream",
     "text": [
      "y_calc vector shape:  (100, 1)  first element is:  0.6230966498310253\n"
     ]
    }
   ],
   "source": [
    "y_calc = (slope*X + yint) # X is a vector of size (m x 1) and so is y_hat\n",
    "print(\"y_calc vector shape: \", y_calc.shape, \" first element is: \", y_calc[0,0])"
   ]
  },
  {
   "cell_type": "code",
   "execution_count": 11,
   "metadata": {},
   "outputs": [
    {
     "name": "stdout",
     "output_type": "stream",
     "text": [
      "y_diff vector shape:  (100, 1)  first element is:  10.128168448943457\n"
     ]
    }
   ],
   "source": [
    "y_diff = (y_calc - y) # differences between observed y values and y_hat (the residual errors)\n",
    "print(\"y_diff vector shape: \", y_diff.shape, \" first element is: \", y_diff[0,0])"
   ]
  },
  {
   "cell_type": "code",
   "execution_count": 12,
   "metadata": {},
   "outputs": [
    {
     "name": "stdout",
     "output_type": "stream",
     "text": [
      "y_diff_squares vector shape:  (100, 1)  first element is:  102.57979613017372\n"
     ]
    }
   ],
   "source": [
    "y_diff_squares = ((slope*X + yint) - y)**2 # square each residual error in the vector\n",
    "print(\"y_diff_squares vector shape: \", y_diff.shape, \" first element is: \", y_diff_squares[0,0])"
   ]
  },
  {
   "cell_type": "code",
   "execution_count": 13,
   "metadata": {},
   "outputs": [
    {
     "name": "stdout",
     "output_type": "stream",
     "text": [
      "Initial cost (matrix math) = 918.690864\n",
      "Initial cost (loop method) = 918.690864\n"
     ]
    }
   ],
   "source": [
    "sumSq2 = sum(y_diff_squares) / (2.0 * n) # Use the `sum` function to add all vector entries together\n",
    "print(\"Initial cost (matrix math) = %f\" % sumSq2)\n",
    "print(\"Initial cost (loop method) = %f\" % sumSq)"
   ]
  },
  {
   "cell_type": "markdown",
   "metadata": {},
   "source": [
    "Okay, the matrix approach matches the loop method. Now that you know the details, we can collapse the cost function code into one line:"
   ]
  },
  {
   "cell_type": "code",
   "execution_count": 14,
   "metadata": {},
   "outputs": [],
   "source": [
    "def costFunction(X, y, slope, yint):\n",
    "    cost = sum(((slope*X + yint) - y)**2) / (2.0 * X.shape[0])\n",
    "    return cost"
   ]
  },
  {
   "cell_type": "markdown",
   "metadata": {},
   "source": [
    "And this should give the same result for the initial cost function:"
   ]
  },
  {
   "cell_type": "code",
   "execution_count": 15,
   "metadata": {},
   "outputs": [
    {
     "name": "stdout",
     "output_type": "stream",
     "text": [
      "Initial cost (one-line function) = 918.690864\n"
     ]
    }
   ],
   "source": [
    "iCost = costFunction(X, y, slope, yint)\n",
    "print(\"Initial cost (one-line function) = %f\" % iCost)"
   ]
  },
  {
   "cell_type": "markdown",
   "metadata": {},
   "source": [
    "### One last trick: Sum of squares using Matrix Algebra\n",
    "\n",
    "Did you know that multiplying a column vector by its transpose is the same as summing the squares of each element? The transpose of a matrix flips its rows and columns. So a column vector of size $(n\\ x\\ 1)$ becomes a row vector of size $(1\\ x\\ n)$. Since matrix multiplication requires the number of columns of the first matrix to match the number of rows of the second matrix, if we multiply the $(1\\ x\\ n)$ traspose with the $(n\\ x\\ 1)$ vector, we get a $(1\\ x\\ 1)$ matrix that is the sum of the squares of the vector elements. This gives us one more way of writing the cost function:"
   ]
  },
  {
   "cell_type": "code",
   "execution_count": 16,
   "metadata": {},
   "outputs": [
    {
     "name": "stdout",
     "output_type": "stream",
     "text": [
      "Initial cost (vector multiplication) = 918.690864 \n"
     ]
    }
   ],
   "source": [
    "y_diff = ((slope*X + yint) - y) # column vector of size (n x 1)\n",
    "vCost = (y_diff.T @ y_diff)/(2.0 * X.shape[0]) # @ is the Python matrix multiplication operator\n",
    "print(\"Initial cost (vector multiplication) = %f \" % vCost)"
   ]
  },
  {
   "cell_type": "markdown",
   "metadata": {},
   "source": [
    "## 5. The equations of gradient descent\n",
    "\n",
    "Gradient descent is an iterative optimization algorithm for finding the minimum of a function. The least squares cost function we defined has the nice property that it is a [convex function](https://en.wikipedia.org/wiki/Convex_function) and has only one minimum. When a function is not convex, gradient descent will find a *local minimum*. There may be more than one. You will find later that this problem comes up in fitting neural networks all the time because the functions you need to minimize are not always convex."
   ]
  },
  {
   "cell_type": "markdown",
   "metadata": {},
   "source": [
    "Gradient descents finds the minimum of a convex function by taking steps proportional to the negative of the gradient (or the calculated numerical gradient) of the function at the current point. If a function $F(\\vec{x})$ is defined and differntiable around a specific point $\\vec{x}_k$ then $F(\\vec{x}_k)$ decreases fastest by moving in the direction defined by the negative of the gradient $-\\nabla F(\\vec{x}_k)$. So a small value of $F(\\vec{x})$ will be obtained by moving from point $\\vec{x}_k$ to $\\vec{x}_{k+1}$ where:\n",
    "\n",
    "$$\\vec{x}_{k+1} = \\vec{x}_k - \\alpha\\nabla F(\\vec{x}_k)$$"
   ]
  },
  {
   "cell_type": "markdown",
   "metadata": {},
   "source": [
    "and if $\\alpha$ (known in machine learning as the **learning rate**) is small enough, the sequence of points generated by repeating the above equation a number of times, will converge to the global minimum of $F(\\vec{x})$. In terms of our cost function:\n",
    "\n",
    "$$J(m, b) = \\frac{1}{2n}\\sum_{i=0}^{n-1}\\epsilon_i^2 = \\frac{1}{2n}\\sum_{i=0}^{n-1}((m*x_i+b)-y_i)^2$$"
   ]
  },
  {
   "cell_type": "markdown",
   "metadata": {},
   "source": [
    "A simple gradient calculation yields equations for updating $m$ and $b$:\n",
    "\n",
    "$$m_{k+1} = m_{k} - \\alpha\\frac{\\partial J(m,b)}{\\partial m}\\Bigr|_{\\substack{m\\ =\\ m_k\\\\b\\ =\\ b_k}} = m_{k} - \\frac{1}{\\alpha}\\sum_{i=0}^{n-1}x_i*((m_k*x_i+b_k)-y_i)$$\n",
    "\n",
    "$$b_{k+1} = b_{k} - \\alpha\\frac{\\partial J(m,b)}{\\partial m}\\Bigr|_{\\substack{m\\ =\\ m_k\\\\b\\ =\\ b_k}} = b_{k} - \\frac{1}{\\alpha}\\sum_{i=0}^{n-1}((m_k*x_i+b_k)-y_i)$$"
   ]
  },
  {
   "cell_type": "markdown",
   "metadata": {},
   "source": [
    "### Set your hyper-parameters\n",
    "\n",
    "Every machine learning algorithm comes with one or more *hyper-parameters* that you must choose before fitting your data.\n",
    "\n",
    "One parameter is the **number of iterations** the algorithm makes while fitting. A dataset very close to a straight line might take only a few iterations to converge on numbers for the slope and y-intercept. A dataset that looks more like a random cloud could take many more iterations to converge.\n",
    "\n",
    "For gradient descent, you have the **alpha $(\\alpha)$** hyper-parameter that determines how fast the algorithm moves towards the cost function minimum. Set **alpha** too large and the algorithm might not converge at all. Too small and it may take a lot more interations to converge. I'm choosing one that happens to work fairly well with gradient descent for linear regression:"
   ]
  },
  {
   "cell_type": "code",
   "execution_count": 17,
   "metadata": {},
   "outputs": [],
   "source": [
    "iters = 1000\n",
    "alpha = 0.05"
   ]
  },
  {
   "cell_type": "markdown",
   "metadata": {},
   "source": [
    "### The gradient descent function to minize the cost function\n",
    "\n",
    "Once you know the gradient descent equations, and that little bit of Python vector math knowledge, the function to minimze $J(m,b)$ is easy to write:"
   ]
  },
  {
   "cell_type": "code",
   "execution_count": 18,
   "metadata": {},
   "outputs": [],
   "source": [
    "def gradientDescent(X, y, slope, yint, alpha, iters):\n",
    "    n = X.shape[0]\n",
    "    for i in range(iters):\n",
    "        cost = costFunction(X, y, slope, yint)\n",
    "        y_hat = (slope*X + yint)\n",
    "        slope = slope - (alpha/n) * sum(X * (y_hat - y))\n",
    "        yint = yint - (alpha/n) * sum(y_hat - y)\n",
    "    return (slope, yint, cost)"
   ]
  },
  {
   "cell_type": "markdown",
   "metadata": {},
   "source": [
    "And there is no reason to not just run it. We already know what the slope and intercept of our linear function should be. We determined the slope and y-intercept when we created the test data:"
   ]
  },
  {
   "cell_type": "code",
   "execution_count": 19,
   "metadata": {},
   "outputs": [
    {
     "name": "stdout",
     "output_type": "stream",
     "text": [
      "Chosen slope =  40.28803313791421\n",
      "Chosen y-intercept =  -10.0\n"
     ]
    }
   ],
   "source": [
    "print(\"Chosen slope = \", chosen_slope)\n",
    "print(\"Chosen y-intercept = \", chosen_yint)"
   ]
  },
  {
   "cell_type": "markdown",
   "metadata": {},
   "source": [
    "So...does our gradient descent solution for Linear Regression work? We can find out with one line of code:"
   ]
  },
  {
   "cell_type": "code",
   "execution_count": 20,
   "metadata": {},
   "outputs": [
    {
     "name": "stdout",
     "output_type": "stream",
     "text": [
      "Initial cost and final cost = 918.690864, 61.025557\n",
      "\n",
      "slope and y-intercept = 40.638393, -10.289879\n"
     ]
    }
   ],
   "source": [
    "slope, yint, cost = gradientDescent(X, y, slope, yint, alpha, iters)\n",
    "\n",
    "print(\"Initial cost and final cost = %f, %f\" % (iCost, cost))\n",
    "print()\n",
    "print(\"slope and y-intercept = %f, %f\" % (slope, yint))"
   ]
  },
  {
   "cell_type": "markdown",
   "metadata": {},
   "source": [
    "### Is this as good as we can do?\n",
    "\n",
    "What if we repeat the minimization with twice as many iterations..."
   ]
  },
  {
   "cell_type": "code",
   "execution_count": 21,
   "metadata": {},
   "outputs": [
    {
     "name": "stdout",
     "output_type": "stream",
     "text": [
      "Initial cost and final cost = 918.690864, 61.025557\n",
      "\n",
      "slope and y-intercept = 40.638393, -10.289879\n"
     ]
    }
   ],
   "source": [
    "slope, yint, cost = gradientDescent(X, y, slope, yint, alpha, iters*2)\n",
    "\n",
    "print(\"Initial cost and final cost = %f, %f\" % (iCost, cost))\n",
    "print()\n",
    "print(\"slope and y-intercept = %f, %f\" % (slope, yint))"
   ]
  },
  {
   "cell_type": "markdown",
   "metadata": {},
   "source": [
    "Yes, we have converged on the best slope and y-intercept!\n",
    "\n",
    "**NOTE**: The values we obtained from gradient descent will be close to the slope and y-intercept chosen to create the test dataset. We introduced noise into our data and that reduces the ability for our numerical method to match the numbers used to create the dataset. If you set the `noise` parameter to zero in `make_regression` your numbers will be much closer.\n",
    "\n",
    "## 6. Visualizing our fit\n",
    "\n",
    "Plotting the test dataset and then drawing the \"best fit\" line in lets us see how well least squares Linear Regression works."
   ]
  },
  {
   "cell_type": "code",
   "execution_count": 22,
   "metadata": {},
   "outputs": [
    {
     "data": {
      "image/png": "[encoded data removed]",
      "text/plain": [
       "<Figure size 432x288 with 1 Axes>"
      ]
     },
     "metadata": {},
     "output_type": "display_data"
    }
   ],
   "source": [
    "plt.scatter(X, y, c='b')\n",
    "\n",
    "x_vals = np.array(plt.gca().get_xlim())[:,None]\n",
    "y_vals = slope * x_vals + yint\n",
    "plt.plot(x_vals, y_vals, 'r-')\n",
    "\n",
    "plt.xlabel(\"X\")\n",
    "plt.ylabel(\"y\")\n",
    "plt.title(\"Sample dataset with Gradient Descent regression line\")\n",
    "\n",
    "plt.show()"
   ]
  },
  {
   "cell_type": "markdown",
   "metadata": {},
   "source": [
    "### About those residual errors\n",
    "\n",
    "Just to show you a little more about how to use `matplotlib`, I will draw in the residual errors in two ways. First, they can be added to the data plot above by calculating:\n",
    "\n",
    "$$\\epsilon_i = (mx_i + b) - y_i$$\n",
    "\n",
    "for each point in the dataset and then drawing a vertical line from the actual data point to the fitted straight line. While you can do that a number of ways in Python, a loop is the easiest to understand:"
   ]
  },
  {
   "cell_type": "code",
   "execution_count": 23,
   "metadata": {},
   "outputs": [],
   "source": [
    "y_predicted = slope*X + yint # The predicted values of y for each input value X in the dataset"
   ]
  },
  {
   "cell_type": "code",
   "execution_count": 24,
   "metadata": {
    "scrolled": false
   },
   "outputs": [
    {
     "data": {
      "image/png": "[encoded data removed]",
      "text/plain": [
       "<Figure size 432x288 with 1 Axes>"
      ]
     },
     "metadata": {},
     "output_type": "display_data"
    }
   ],
   "source": [
    "plt.scatter(X, y, c='b')\n",
    "plt.plot(x_vals, y_vals, 'r-') # get the lowest and highest values of X and Y on the plotted axes\n",
    "for i in range(X.shape[0]):\n",
    "    plt.plot([X[i],X[i]], [y[i], y_predicted[i]], 'b-', alpha=0.4) # draw residual from the data point to the line\n",
    "plt.xlabel(\"X\")\n",
    "plt.ylabel(\"y\")\n",
    "plt.title(\"Sample dataset with Residual Errors drawn\")\n",
    "plt.show()"
   ]
  },
  {
   "cell_type": "markdown",
   "metadata": {},
   "source": [
    "The parameter `alpha` in `plt.plot` draws transparent lines varying from invisible `alpha=0.0` to solid `alpha=1.0`. Using an `alpha=0.4` allows you to add many smaller lines to a plot that will be visible but not overpowering.\n",
    "\n",
    "### Another way to look the residuals\n",
    "\n",
    "Draw each of them as a positive or negative value from zero:"
   ]
  },
  {
   "cell_type": "code",
   "execution_count": 25,
   "metadata": {},
   "outputs": [
    {
     "data": {
      "image/png": "[encoded data removed]",
      "text/plain": [
       "<Figure size 432x288 with 1 Axes>"
      ]
     },
     "metadata": {},
     "output_type": "display_data"
    }
   ],
   "source": [
    "residuals = y - y_predicted\n",
    "\n",
    "plt.plot(x_vals, [[0.0],[0.0]], 'r-')\n",
    "\n",
    "for i in range(X.shape[0]):\n",
    "    plt.plot([X[i],X[i]], [0.0,residuals[i]], 'b-', alpha=0.4)\n",
    "\n",
    "plt.scatter(X, residuals, c='b')\n",
    "plt.xlabel(\"X\")\n",
    "plt.ylabel(\"Residual Error\")\n",
    "plt.title(\"Residual Errors of Sample Dataset\")\n",
    "plt.show()"
   ]
  },
  {
   "cell_type": "markdown",
   "metadata": {},
   "source": [
    "They look more or less evenly distributed about the horizontal axis. This is how it should be if your $X$ and $y$ data have a truly linear relationship. In that case, the residual errors will be *normally distributed* and follow a Gaussian distribution (Gauss discovered a lot of fundamental statistical concepts). This is a key concept of linear regression. If your math is a bit rusty, you can ignore this for now - or you can read all about it here: [Assumptions for Linear Regression](http://thestatsgeek.com/2013/08/07/assumptions-for-linear-regression/).\n",
    "\n",
    "You can check if the residuals roughly follow a normal distribution by plotting them in a [histogram](http://asq.org/learn-about-quality/data-collection-analysis-tools/overview/histogram2.html) (another nice feature of `matplotlib`)."
   ]
  },
  {
   "cell_type": "code",
   "execution_count": 26,
   "metadata": {},
   "outputs": [
    {
     "data": {
      "image/png": "[encoded data removed]",
      "text/plain": [
       "<Figure size 432x288 with 1 Axes>"
      ]
     },
     "metadata": {},
     "output_type": "display_data"
    }
   ],
   "source": [
    "plt.hist(residuals)\n",
    "plt.show()"
   ]
  },
  {
   "cell_type": "markdown",
   "metadata": {},
   "source": [
    "Seriously, Statisics isn't that scary. Follow this link: [histogram](http://asq.org/learn-about-quality/data-collection-analysis-tools/overview/histogram2.html) to see if this histogram follows the *normal distribution*."
   ]
  },
  {
   "cell_type": "markdown",
   "metadata": {},
   "source": [
    "## 7. Fit the test data with the scikit-learn regression function\n",
    "\n",
    "That was a bit of work. You think someone would have done all that programming for you? Well...they have. The `scikit-learn` Python module has linear regression built in as the `LinearRegression` function. Let's see if our results agree with the `LinearRegression` function:"
   ]
  },
  {
   "cell_type": "code",
   "execution_count": 27,
   "metadata": {},
   "outputs": [
    {
     "name": "stdout",
     "output_type": "stream",
     "text": [
      "slope and y-int (gradient descent) = 40.638393, -10.289879\n",
      "slope and y-int (scikit learn) = 40.638393, -10.289879\n",
      "R^2 = 0.927140\n"
     ]
    }
   ],
   "source": [
    "from sklearn import linear_model\n",
    "\n",
    "reg = linear_model.LinearRegression()\n",
    "reg.fit(X, y)\n",
    "\n",
    "print(\"slope and y-int (gradient descent) = %f, %f\" % (slope, yint))\n",
    "print(\"slope and y-int (scikit learn) = %f, %f\" % (reg.coef_, reg.intercept_))\n",
    "print(\"R^2 = %f\" % reg.score(X, y))"
   ]
  },
  {
   "cell_type": "markdown",
   "metadata": {},
   "source": [
    "Nice and close. One other thing `LinearRegression` does is compute what is known as the $R^2$ coefficient. Your data follows the regression line perfectly if $R^2 = 1$ and is randomly distributed and not related to the line at all if $R^2 = 0$. In our case, our dataset is close to following a linear model $(R^2 = 0.92)$.\n",
    "\n",
    "When we plot the lines calculated by gradient descent and the `LinearRegression` function, the lines overlay one another:"
   ]
  },
  {
   "cell_type": "code",
   "execution_count": 28,
   "metadata": {},
   "outputs": [
    {
     "data": {
      "image/png": "[encoded data removed]",
      "text/plain": [
       "<Figure size 432x288 with 1 Axes>"
      ]
     },
     "metadata": {},
     "output_type": "display_data"
    }
   ],
   "source": [
    "plt.scatter(X, y, c='b')\n",
    "\n",
    "x_vals = np.array(plt.gca().get_xlim()) \n",
    "y_vals = reg.intercept_[0] + reg.coef_[0][0]* x_vals\n",
    "y_v = slope* x_vals + yint\n",
    "\n",
    "\n",
    "plt.plot(x_vals, y_vals, 'r-') # gradient descent line in red\n",
    "plt.plot(x_vals, y_v, 'g--') # LinearRegression line in dotted green\n",
    "\n",
    "\n",
    "plt.xlabel(\"X\")\n",
    "plt.ylabel(\"y\")\n",
    "plt.title(\"Sample dataset with scikit-learn and Gradient Descent regression lines\")\n",
    "plt.show()"
   ]
  },
  {
   "cell_type": "markdown",
   "metadata": {},
   "source": [
    "## 8. One more time...with TensorFlow!\n",
    "\n",
    "Remember in the article accompanying this Notebook that I said that Linear Regression is an idea at the heart of neural netorks? So it should not be too surprising that you can build a simple neural network to do Linear Regression. While it is too soon to be explaining `TensorFlow` to you, just take a look at the code:"
   ]
  },
  {
   "cell_type": "code",
   "execution_count": 29,
   "metadata": {},
   "outputs": [],
   "source": [
    "import tensorflow as tf\n",
    "\n",
    "np.random.seed(100)\n",
    "tf.set_random_seed(100)"
   ]
  },
  {
   "cell_type": "markdown",
   "metadata": {},
   "source": [
    "Define the slope, intercept, and the linear function to fit:"
   ]
  },
  {
   "cell_type": "code",
   "execution_count": 30,
   "metadata": {},
   "outputs": [],
   "source": [
    "tf_slope = tf.Variable(1.0)\n",
    "tf_yint = tf.Variable(1.0)\n",
    "y_tf = tf_slope * X + tf_yint"
   ]
  },
  {
   "cell_type": "markdown",
   "metadata": {},
   "source": [
    "The cost function is just the square of the residuals (without dividing by $2n$ to keep things simple):"
   ]
  },
  {
   "cell_type": "code",
   "execution_count": 31,
   "metadata": {},
   "outputs": [],
   "source": [
    "loss = tf.reduce_mean(tf.square(y_tf - y))"
   ]
  },
  {
   "cell_type": "markdown",
   "metadata": {},
   "source": [
    "Choose to fit the neural network using gradient descent...with the same $alpha$ parameter we used earlier..."
   ]
  },
  {
   "cell_type": "code",
   "execution_count": 32,
   "metadata": {},
   "outputs": [],
   "source": [
    "optimizer = tf.train.GradientDescentOptimizer(alpha)\n",
    "train = optimizer.minimize(loss)\n",
    "\n",
    "init = tf.global_variables_initializer()"
   ]
  },
  {
   "cell_type": "markdown",
   "metadata": {},
   "source": [
    "And train the network using the same number of iterations...printing the slope and y-intercept every 100 iterations..."
   ]
  },
  {
   "cell_type": "code",
   "execution_count": 33,
   "metadata": {},
   "outputs": [
    {
     "name": "stdout",
     "output_type": "stream",
     "text": [
      "0 4.888285 -0.54188454\n",
      "100 40.636253 -10.291174\n",
      "200 40.638374 -10.289885\n",
      "300 40.638374 -10.289885\n",
      "400 40.638374 -10.289885\n",
      "500 40.638374 -10.289885\n",
      "600 40.638374 -10.289885\n",
      "700 40.638374 -10.289885\n",
      "800 40.638374 -10.289885\n",
      "900 40.638374 -10.289885\n"
     ]
    }
   ],
   "source": [
    "sess = tf.Session()\n",
    "sess.run(init)\n",
    "\n",
    "for step in range(iters):\n",
    "    sess.run(train)\n",
    "    if step % 100 == 0:\n",
    "        print(step, sess.run(tf_slope), sess.run(tf_yint))"
   ]
  },
  {
   "cell_type": "markdown",
   "metadata": {},
   "source": [
    "How did `TensorFlow` do?"
   ]
  },
  {
   "cell_type": "code",
   "execution_count": 34,
   "metadata": {},
   "outputs": [
    {
     "name": "stdout",
     "output_type": "stream",
     "text": [
      "*** tensorflow linear regression:\tm = 40.638374, b = -10.289885\n",
      "*** scikit-learn linear regression:\tm = 40.638393, b = -10.289879\n",
      "*** gradient descent linear regression:\tm = 40.638393, b = -10.289879\n"
     ]
    }
   ],
   "source": [
    "print(\"*** tensorflow linear regression:\\tm = %f, b = %f\" % (sess.run(tf_slope), sess.run(tf_yint)))\n",
    "print(\"*** scikit-learn linear regression:\\tm = %f, b = %f\" % (reg.coef_, reg.intercept_))\n",
    "print(\"*** gradient descent linear regression:\\tm = %f, b = %f\" % (slope, yint))"
   ]
  },
  {
   "cell_type": "markdown",
   "metadata": {},
   "source": [
    "The same results! The plots of the regression lines look identical:"
   ]
  },
  {
   "cell_type": "code",
   "execution_count": 35,
   "metadata": {},
   "outputs": [
    {
     "data": {
      "image/png": "[encoded data removed]",
      "text/plain": [
       "<Figure size 432x288 with 1 Axes>"
      ]
     },
     "metadata": {},
     "output_type": "display_data"
    }
   ],
   "source": [
    "plt.scatter(X, y, c='b')\n",
    "\n",
    "x_vals = np.array(plt.gca().get_xlim()) \n",
    "y_vals = yint + slope* x_vals\n",
    "y_v = sess.run(tf_slope)* x_vals + sess.run(tf_yint)\n",
    "\n",
    "\n",
    "plt.plot(x_vals, y_vals, 'r-') # gradient descent line in red\n",
    "plt.plot(x_vals, y_v, 'g--') # TensorFlow line in dotted green\n",
    "\n",
    "\n",
    "plt.xlabel(\"X\")\n",
    "plt.ylabel(\"y\")\n",
    "plt.title(\"Sample dataset with TensorFlow and Gradient Descent regression lines\")\n",
    "plt.show()"
   ]
  },
  {
   "cell_type": "markdown",
   "metadata": {},
   "source": [
    "## 9. Done\n",
    "\n",
    "Congratulations! You now know a lot more than most people about Linear Regression, Cost Functions, Gradient Descent, and Python matrix and plotting tricks."
   ]
  },
  {
   "cell_type": "markdown",
   "metadata": {},
   "source": [
    "## References\n",
    "\n",
    "Cite my work by pointing to the URL of this GitHub repository: \n",
    "> Ken Urquhart, Linear Regression - the first algorithm of AI, 2018\n",
    ">\n",
    "> https://github.com/KenU798/AI-ML-Projects/tree/master/LinearRegression\n",
    "\n",
    "My code is available under the [MIT License](https://github.com/KenU798/AI-ML-Projects/tree/master/LinearRegression/LICENSE). \n",
    "\n",
    "## Connect with me\n",
    "\n",
    "* https://www.linkedin.com/in/kenurquhart\n",
    "* https://github.com/KenU798/"
   ]
  }
 ],
 "metadata": {
  "kernelspec": {
   "display_name": "Python 3",
   "language": "python",
   "name": "python3"
  },
  "language_info": {
   "codemirror_mode": {
    "name": "ipython",
    "version": 3
   },
   "file_extension": ".py",
   "mimetype": "text/x-python",
   "name": "python",
   "nbconvert_exporter": "python",
   "pygments_lexer": "ipython3",
   "version": "3.6.6"
  }
 },
 "nbformat": 4,
 "nbformat_minor": 2
}
